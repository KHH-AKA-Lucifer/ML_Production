{
 "cells": [
  {
   "cell_type": "code",
   "execution_count": 1,
   "metadata": {},
   "outputs": [
    {
     "name": "stdout",
     "output_type": "stream",
     "text": [
      "Requirement already satisfied: opencv-python in d:\\anaconda\\envs\\test_env\\lib\\site-packages (4.10.0.84)\n",
      "Requirement already satisfied: numpy>=1.21.2 in d:\\anaconda\\envs\\test_env\\lib\\site-packages (from opencv-python) (2.0.1)\n"
     ]
    }
   ],
   "source": [
    "!pip install opencv-python"
   ]
  },
  {
   "cell_type": "code",
   "execution_count": 2,
   "metadata": {},
   "outputs": [],
   "source": [
    "import os, sys\n",
    "import cv2"
   ]
  },
  {
   "cell_type": "code",
   "execution_count": 3,
   "metadata": {},
   "outputs": [],
   "source": [
    "root_path = os.getcwd()\n",
    "input_img = cv2.imread(root_path+r\"/test_imgs/test_1.png\")"
   ]
  },
  {
   "cell_type": "code",
   "execution_count": 4,
   "metadata": {},
   "outputs": [
    {
     "name": "stdout",
     "output_type": "stream",
     "text": [
      "d:\\ML_Production\\week_2\n"
     ]
    }
   ],
   "source": [
    "print(root_path)"
   ]
  },
  {
   "cell_type": "code",
   "execution_count": 5,
   "metadata": {},
   "outputs": [
    {
     "name": "stdout",
     "output_type": "stream",
     "text": [
      "<class 'numpy.ndarray'>\n",
      "(315, 600, 3)\n"
     ]
    }
   ],
   "source": [
    "print(type(input_img))\n",
    "print(input_img.shape)"
   ]
  },
  {
   "cell_type": "code",
   "execution_count": 7,
   "metadata": {},
   "outputs": [
    {
     "name": "stdout",
     "output_type": "stream",
     "text": [
      "Collecting pillow\n",
      "  Downloading pillow-10.4.0-cp310-cp310-win_amd64.whl.metadata (9.3 kB)\n",
      "Downloading pillow-10.4.0-cp310-cp310-win_amd64.whl (2.6 MB)\n",
      "   ---------------------------------------- 0.0/2.6 MB ? eta -:--:--\n",
      "    --------------------------------------- 0.0/2.6 MB 991.0 kB/s eta 0:00:03\n",
      "   - -------------------------------------- 0.1/2.6 MB 991.0 kB/s eta 0:00:03\n",
      "   - -------------------------------------- 0.1/2.6 MB 939.4 kB/s eta 0:00:03\n",
      "   -- ------------------------------------- 0.1/2.6 MB 944.1 kB/s eta 0:00:03\n",
      "   --- ------------------------------------ 0.2/2.6 MB 985.7 kB/s eta 0:00:03\n",
      "   --- ------------------------------------ 0.2/2.6 MB 860.2 kB/s eta 0:00:03\n",
      "   ---- ----------------------------------- 0.3/2.6 MB 947.5 kB/s eta 0:00:03\n",
      "   ---- ----------------------------------- 0.3/2.6 MB 936.6 kB/s eta 0:00:03\n",
      "   ------ --------------------------------- 0.4/2.6 MB 933.2 kB/s eta 0:00:03\n",
      "   ------ --------------------------------- 0.4/2.6 MB 1.1 MB/s eta 0:00:02\n",
      "   -------- ------------------------------- 0.6/2.6 MB 1.1 MB/s eta 0:00:02\n",
      "   --------- ------------------------------ 0.6/2.6 MB 1.1 MB/s eta 0:00:02\n",
      "   ---------- ----------------------------- 0.7/2.6 MB 1.1 MB/s eta 0:00:02\n",
      "   ------------ --------------------------- 0.8/2.6 MB 1.2 MB/s eta 0:00:02\n",
      "   ------------- -------------------------- 0.8/2.6 MB 1.2 MB/s eta 0:00:02\n",
      "   --------------- ------------------------ 1.0/2.6 MB 1.3 MB/s eta 0:00:02\n",
      "   --------------- ------------------------ 1.0/2.6 MB 1.3 MB/s eta 0:00:02\n",
      "   ----------------- ---------------------- 1.1/2.6 MB 1.4 MB/s eta 0:00:02\n",
      "   ------------------ --------------------- 1.2/2.6 MB 1.4 MB/s eta 0:00:01\n",
      "   -------------------- ------------------- 1.3/2.6 MB 1.4 MB/s eta 0:00:01\n",
      "   ---------------------- ----------------- 1.4/2.6 MB 1.5 MB/s eta 0:00:01\n",
      "   ---------------------- ----------------- 1.4/2.6 MB 1.5 MB/s eta 0:00:01\n",
      "   ------------------------ --------------- 1.6/2.6 MB 1.5 MB/s eta 0:00:01\n",
      "   -------------------------- ------------- 1.7/2.6 MB 1.6 MB/s eta 0:00:01\n",
      "   ---------------------------- ----------- 1.8/2.6 MB 1.6 MB/s eta 0:00:01\n",
      "   ------------------------------ --------- 1.9/2.6 MB 1.6 MB/s eta 0:00:01\n",
      "   -------------------------------- ------- 2.0/2.6 MB 1.7 MB/s eta 0:00:01\n",
      "   ---------------------------------- ----- 2.2/2.6 MB 1.7 MB/s eta 0:00:01\n",
      "   ------------------------------------- -- 2.4/2.6 MB 1.8 MB/s eta 0:00:01\n",
      "   ---------------------------------------  2.5/2.6 MB 1.8 MB/s eta 0:00:01\n",
      "   ---------------------------------------- 2.6/2.6 MB 1.8 MB/s eta 0:00:00\n",
      "Installing collected packages: pillow\n",
      "Successfully installed pillow-10.4.0\n"
     ]
    }
   ],
   "source": [
    "!pip install pillow"
   ]
  },
  {
   "cell_type": "code",
   "execution_count": 8,
   "metadata": {},
   "outputs": [],
   "source": [
    "from PIL import Image"
   ]
  },
  {
   "cell_type": "code",
   "execution_count": 11,
   "metadata": {},
   "outputs": [
    {
     "name": "stdout",
     "output_type": "stream",
     "text": [
      "<class 'PIL.WebPImagePlugin.WebPImageFile'>\n",
      "(600, 315)\n"
     ]
    }
   ],
   "source": [
    "pil_img = Image.open(root_path+r'/test_imgs/test_1.png')\n",
    "print(type(pil_img))\n",
    "print(pil_img.size)"
   ]
  },
  {
   "cell_type": "code",
   "execution_count": null,
   "metadata": {},
   "outputs": [],
   "source": []
  }
 ],
 "metadata": {
  "kernelspec": {
   "display_name": "test_env",
   "language": "python",
   "name": "python3"
  },
  "language_info": {
   "codemirror_mode": {
    "name": "ipython",
    "version": 3
   },
   "file_extension": ".py",
   "mimetype": "text/x-python",
   "name": "python",
   "nbconvert_exporter": "python",
   "pygments_lexer": "ipython3",
   "version": "3.10.0"
  }
 },
 "nbformat": 4,
 "nbformat_minor": 2
}
